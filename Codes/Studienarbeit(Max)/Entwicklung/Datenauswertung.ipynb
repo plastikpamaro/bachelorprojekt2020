{
 "cells": [
  {
   "cell_type": "code",
   "execution_count": 1,
   "metadata": {},
   "outputs": [],
   "source": [
    "# import\n",
    "import pandas as pd\n",
    "import math\n",
    "import numpy as np\n",
    "import matplotlib.pyplot as plt\n",
    "%matplotlib inline "
   ]
  },
  {
   "cell_type": "code",
   "execution_count": 20,
   "metadata": {},
   "outputs": [],
   "source": [
    "# import a file\n",
    "#raw_data = pd.read_csv(\"./Messungen20200716/hochzaehlenspalte3.txt\")\n",
    "#raw_data = pd.read_csv(\"./Messungen20200716/musikA.txt\")\n",
    "#raw_data = pd.read_csv(\"./Messungen20200716/300Hz.txt\")"
   ]
  },
  {
   "cell_type": "markdown",
   "metadata": {},
   "source": [
    "# Algemiene Datenauswertung\n",
    "Fehler in der Datei finden"
   ]
  },
  {
   "cell_type": "code",
   "execution_count": 3,
   "metadata": {},
   "outputs": [
    {
     "name": "stdout",
     "output_type": "stream",
     "text": [
      "<class 'pandas.core.frame.DataFrame'>\n",
      "RangeIndex: 205000 entries, 0 to 204999\n",
      "Data columns (total 7 columns):\n",
      "ch0    205000 non-null int64\n",
      "ch1    205000 non-null int64\n",
      "ch2    205000 non-null int64\n",
      "ch3    205000 non-null int64\n",
      "ch4    205000 non-null int64\n",
      "ch5    205000 non-null int64\n",
      "us     205000 non-null int64\n",
      "dtypes: int64(7)\n",
      "memory usage: 10.9 MB\n"
     ]
    }
   ],
   "source": [
    "raw_data.info()"
   ]
  },
  {
   "cell_type": "code",
   "execution_count": 4,
   "metadata": {},
   "outputs": [],
   "source": [
    "def check_same_number(array, number):\n",
    "    result = array - number\n",
    "    max_value = max(result)\n",
    "    min_value = min(result)\n",
    "    return [result, max_value, min_value]"
   ]
  },
  {
   "cell_type": "code",
   "execution_count": 5,
   "metadata": {},
   "outputs": [
    {
     "data": {
      "text/plain": [
       "0         10091773\n",
       "1         10091773\n",
       "2         10091773\n",
       "3         10091773\n",
       "4         10091773\n",
       "            ...   \n",
       "204995    10091773\n",
       "204996    10091773\n",
       "204997    10091773\n",
       "204998    10091773\n",
       "204999    10091773\n",
       "Name: ch0, Length: 205000, dtype: int64"
      ]
     },
     "execution_count": 5,
     "metadata": {},
     "output_type": "execute_result"
    }
   ],
   "source": [
    "raw_data.ch0"
   ]
  },
  {
   "cell_type": "code",
   "execution_count": 6,
   "metadata": {},
   "outputs": [
    {
     "name": "stdout",
     "output_type": "stream",
     "text": [
      "Max: 0\n",
      "Min: 0\n",
      "Anzhal der falsch übertragenen Daten: 0\n",
      "Anteil an den gesamten Daten: 0.0%\n"
     ]
    }
   ],
   "source": [
    "[result, max_value, min_value] = check_same_number(raw_data.ch0, 10091773)\n",
    "print(\"Max: \"+str(max_value))\n",
    "print(\"Min: \"+str(min_value))\n",
    "result\n",
    "\n",
    "num_of_wrong = 0\n",
    "for i in range(0, len(result)):\n",
    "  if (result[i] != 0):\n",
    "    num_of_wrong = num_of_wrong + 1\n",
    "    \n",
    "print(\"Anzhal der falsch übertragenen Daten: \"+str(num_of_wrong))\n",
    "print(\"Anteil an den gesamten Daten: \"+ str((num_of_wrong/len(result))*100) + \"%\")"
   ]
  },
  {
   "cell_type": "code",
   "execution_count": 7,
   "metadata": {},
   "outputs": [
    {
     "data": {
      "text/plain": [
       "0         10091774\n",
       "1         10091774\n",
       "2         10091774\n",
       "3         10091774\n",
       "4         10091774\n",
       "            ...   \n",
       "204995    10091774\n",
       "204996    10091774\n",
       "204997    10091774\n",
       "204998    10091774\n",
       "204999    10091774\n",
       "Name: ch1, Length: 205000, dtype: int64"
      ]
     },
     "execution_count": 7,
     "metadata": {},
     "output_type": "execute_result"
    }
   ],
   "source": [
    "raw_data.ch1"
   ]
  },
  {
   "cell_type": "code",
   "execution_count": 8,
   "metadata": {},
   "outputs": [
    {
     "name": "stdout",
     "output_type": "stream",
     "text": [
      "Max: 0\n",
      "Min: -589824\n",
      "Anzhal der falsch übertragenen Daten: 4\n",
      "Anteil an den gesamten Daten: 0.001951219512195122%\n"
     ]
    }
   ],
   "source": [
    "[result, max_value, min_value] = check_same_number(raw_data.ch1, 10091774)\n",
    "print(\"Max: \"+str(max_value))\n",
    "print(\"Min: \"+str(min_value))\n",
    "result\n",
    "\n",
    "num_of_wrong = 0\n",
    "for i in range(0, len(result)):\n",
    "  if (result[i] != 0):\n",
    "    num_of_wrong = num_of_wrong + 1\n",
    "    \n",
    "print(\"Anzhal der falsch übertragenen Daten: \"+str(num_of_wrong))\n",
    "print(\"Anteil an den gesamten Daten: \"+ str((num_of_wrong/len(result))*100) + \"%\")"
   ]
  },
  {
   "cell_type": "code",
   "execution_count": 9,
   "metadata": {},
   "outputs": [],
   "source": [
    "def check_counter(array):\n",
    "    wrong_count = 0\n",
    "    last_number = array[0]\n",
    "    distance = np.zeros(len(array))\n",
    "    \n",
    "    for i in range(1,len(array)):\n",
    "        diff = array[i] - last_number\n",
    "        last_number = array[i]\n",
    "        if diff != 1:\n",
    "            wrong_count = wrong_count + 1\n",
    "        distance[i] = diff\n",
    "        #print(diff)\n",
    "    return [wrong_count, distance]"
   ]
  },
  {
   "cell_type": "code",
   "execution_count": 10,
   "metadata": {},
   "outputs": [
    {
     "name": "stdout",
     "output_type": "stream",
     "text": [
      "Anzahl Unterbrechungen: 0\n"
     ]
    },
    {
     "data": {
      "text/plain": [
       "<matplotlib.axes._subplots.AxesSubplot at 0x154f27728c8>"
      ]
     },
     "execution_count": 10,
     "metadata": {},
     "output_type": "execute_result"
    },
    {
     "data": {
      "image/png": "[encoded data removed]",
      "text/plain": [
       "<Figure size 432x288 with 1 Axes>"
      ]
     },
     "metadata": {
      "needs_background": "light"
     },
     "output_type": "display_data"
    }
   ],
   "source": [
    "[wrong_count, distance] = check_counter(raw_data.ch2)\n",
    "print(\"Anzahl Unterbrechungen: \" + str(wrong_count))\n",
    "dis = pd.Series(distance)\n",
    "dis.hist()"
   ]
  },
  {
   "cell_type": "code",
   "execution_count": 11,
   "metadata": {},
   "outputs": [
    {
     "data": {
      "image/png": "[encoded data removed]",
      "text/plain": [
       "<Figure size 432x288 with 1 Axes>"
      ]
     },
     "metadata": {
      "needs_background": "light"
     },
     "output_type": "display_data"
    }
   ],
   "source": [
    "plt.plot(dis)\n",
    "plt.show()"
   ]
  },
  {
   "cell_type": "code",
   "execution_count": 27,
   "metadata": {},
   "outputs": [
    {
     "data": {
      "text/plain": [
       "<matplotlib.axes._subplots.AxesSubplot at 0x154f81844c8>"
      ]
     },
     "execution_count": 27,
     "metadata": {},
     "output_type": "execute_result"
    },
    {
     "data": {
      "image/png": "[encoded data removed]",
      "text/plain": [
       "<Figure size 432x288 with 1 Axes>"
      ]
     },
     "metadata": {
      "needs_background": "light"
     },
     "output_type": "display_data"
    }
   ],
   "source": [
    "[wrong_count, distance] = check_counter(raw_data.us)\n",
    "dis = pd.Series(distance)\n",
    "dis.hist(bins=1000)\n"
   ]
  },
  {
   "cell_type": "markdown",
   "metadata": {},
   "source": [
    "# in Audio Konvertieren"
   ]
  },
  {
   "cell_type": "code",
   "execution_count": 14,
   "metadata": {},
   "outputs": [],
   "source": [
    "def convert_to_real_audio(data, filename):\n",
    "    output_file = open(filename, 'w')\n",
    "    output_array = np.zeros(len(data))\n",
    "    for i in range(0,len(data)):\n",
    "        number = int(data[i])\n",
    "        n = number & 0xffffff\n",
    "        number =  n | (-(n & 0x400000))\n",
    "        output_file.write(str(number)+'\\n')\n",
    "        output_array[i] = number\n",
    "    output_file.close()\n",
    "    return(output_array)\n",
    "        "
   ]
  },
  {
   "cell_type": "code",
   "execution_count": 21,
   "metadata": {},
   "outputs": [
    {
     "data": {
      "image/png": "[encoded data removed]",
      "text/plain": [
       "<Figure size 432x288 with 1 Axes>"
      ]
     },
     "metadata": {
      "needs_background": "light"
     },
     "output_type": "display_data"
    }
   ],
   "source": [
    "output = convert_to_real_audio(raw_data.ch3, \"300Hz_ch3.txt\")\n",
    "plt.plot(output)\n",
    "plt.show()"
   ]
  },
  {
   "cell_type": "code",
   "execution_count": null,
   "metadata": {},
   "outputs": [],
   "source": []
  }
 ],
 "metadata": {
  "kernelspec": {
   "display_name": "Python 3",
   "language": "python",
   "name": "python3"
  },
  "language_info": {
   "codemirror_mode": {
    "name": "ipython",
    "version": 3
   },
   "file_extension": ".py",
   "mimetype": "text/x-python",
   "name": "python",
   "nbconvert_exporter": "python",
   "pygments_lexer": "ipython3",
   "version": "3.7.4"
  }
 },
 "nbformat": 4,
 "nbformat_minor": 2
}
